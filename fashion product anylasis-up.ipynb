{
 "cells": [
  {
   "cell_type": "code",
   "execution_count": 93,
   "id": "42f5133b",
   "metadata": {},
   "outputs": [],
   "source": [
    "import numpy as np\n",
    "import pandas as pd\n",
    "import seaborn as sns\n",
    "import matplotlib.pyplot as plt\n"
   ]
  },
  {
   "cell_type": "code",
   "execution_count": 2,
   "id": "44d2089c",
   "metadata": {},
   "outputs": [],
   "source": [
    "import os"
   ]
  },
  {
   "cell_type": "code",
   "execution_count": 3,
   "id": "91df41ca",
   "metadata": {},
   "outputs": [
    {
     "data": {
      "text/plain": [
       "'/Users/abhijeetkashyap'"
      ]
     },
     "execution_count": 3,
     "metadata": {},
     "output_type": "execute_result"
    }
   ],
   "source": [
    "pwd"
   ]
  },
  {
   "cell_type": "code",
   "execution_count": 4,
   "id": "ca67f651",
   "metadata": {},
   "outputs": [],
   "source": [
    "os.chdir('Desktop')"
   ]
  },
  {
   "cell_type": "code",
   "execution_count": 5,
   "id": "d6071ab2",
   "metadata": {},
   "outputs": [
    {
     "data": {
      "text/plain": [
       "'/Users/abhijeetkashyap/Desktop'"
      ]
     },
     "execution_count": 5,
     "metadata": {},
     "output_type": "execute_result"
    }
   ],
   "source": [
    "pwd"
   ]
  },
  {
   "cell_type": "code",
   "execution_count": 34,
   "id": "29cdba91",
   "metadata": {},
   "outputs": [],
   "source": [
    "data=pd.read_csv('FashionDataset.csv') # raw file"
   ]
  },
  {
   "cell_type": "code",
   "execution_count": 7,
   "id": "b3c2441f",
   "metadata": {},
   "outputs": [
    {
     "data": {
      "text/plain": [
       "pandas.core.frame.DataFrame"
      ]
     },
     "execution_count": 7,
     "metadata": {},
     "output_type": "execute_result"
    }
   ],
   "source": [
    "type(data)"
   ]
  },
  {
   "cell_type": "code",
   "execution_count": 8,
   "id": "0cb26fd7",
   "metadata": {},
   "outputs": [
    {
     "data": {
      "text/plain": [
       "Unnamed: 0     int64\n",
       "BrandName     object\n",
       "Deatils       object\n",
       "Sizes         object\n",
       "MRP           object\n",
       "SellPrice     object\n",
       "Discount      object\n",
       "Category      object\n",
       "dtype: object"
      ]
     },
     "execution_count": 8,
     "metadata": {},
     "output_type": "execute_result"
    }
   ],
   "source": [
    "data.dtypes"
   ]
  },
  {
   "cell_type": "code",
   "execution_count": 9,
   "id": "d312af24",
   "metadata": {},
   "outputs": [
    {
     "data": {
      "text/html": [
       "<div>\n",
       "<style scoped>\n",
       "    .dataframe tbody tr th:only-of-type {\n",
       "        vertical-align: middle;\n",
       "    }\n",
       "\n",
       "    .dataframe tbody tr th {\n",
       "        vertical-align: top;\n",
       "    }\n",
       "\n",
       "    .dataframe thead th {\n",
       "        text-align: right;\n",
       "    }\n",
       "</style>\n",
       "<table border=\"1\" class=\"dataframe\">\n",
       "  <thead>\n",
       "    <tr style=\"text-align: right;\">\n",
       "      <th></th>\n",
       "      <th>Unnamed: 0</th>\n",
       "      <th>BrandName</th>\n",
       "      <th>Deatils</th>\n",
       "      <th>Sizes</th>\n",
       "      <th>MRP</th>\n",
       "      <th>SellPrice</th>\n",
       "      <th>Discount</th>\n",
       "      <th>Category</th>\n",
       "    </tr>\n",
       "  </thead>\n",
       "  <tbody>\n",
       "    <tr>\n",
       "      <th>0</th>\n",
       "      <td>0</td>\n",
       "      <td>life</td>\n",
       "      <td>solid cotton blend collar neck womens a-line d...</td>\n",
       "      <td>Size:Large,Medium,Small,X-Large,X-Small</td>\n",
       "      <td>Rs\\n1699</td>\n",
       "      <td>849</td>\n",
       "      <td>50% off</td>\n",
       "      <td>Westernwear-Women</td>\n",
       "    </tr>\n",
       "    <tr>\n",
       "      <th>1</th>\n",
       "      <td>1</td>\n",
       "      <td>only</td>\n",
       "      <td>polyester peter pan collar womens blouson dres...</td>\n",
       "      <td>Size:34,36,38,40</td>\n",
       "      <td>Rs\\n3499</td>\n",
       "      <td>2449</td>\n",
       "      <td>30% off</td>\n",
       "      <td>Westernwear-Women</td>\n",
       "    </tr>\n",
       "    <tr>\n",
       "      <th>2</th>\n",
       "      <td>2</td>\n",
       "      <td>fratini</td>\n",
       "      <td>solid polyester blend wide neck womens regular...</td>\n",
       "      <td>Size:Large,X-Large,XX-Large</td>\n",
       "      <td>Rs\\n1199</td>\n",
       "      <td>599</td>\n",
       "      <td>50% off</td>\n",
       "      <td>Westernwear-Women</td>\n",
       "    </tr>\n",
       "    <tr>\n",
       "      <th>3</th>\n",
       "      <td>3</td>\n",
       "      <td>zink london</td>\n",
       "      <td>stripes polyester sweetheart neck womens dress...</td>\n",
       "      <td>Size:Large,Medium,Small,X-Large</td>\n",
       "      <td>Rs\\n2299</td>\n",
       "      <td>1379</td>\n",
       "      <td>40% off</td>\n",
       "      <td>Westernwear-Women</td>\n",
       "    </tr>\n",
       "    <tr>\n",
       "      <th>4</th>\n",
       "      <td>4</td>\n",
       "      <td>life</td>\n",
       "      <td>regular fit regular length denim womens jeans ...</td>\n",
       "      <td>Size:26,28,30,32,34,36</td>\n",
       "      <td>Rs\\n1699</td>\n",
       "      <td>849</td>\n",
       "      <td>50% off</td>\n",
       "      <td>Westernwear-Women</td>\n",
       "    </tr>\n",
       "    <tr>\n",
       "      <th>5</th>\n",
       "      <td>5</td>\n",
       "      <td>kraus</td>\n",
       "      <td>wide ankle length cotton womens jeans - light ...</td>\n",
       "      <td>Size:26,28,30,32,34</td>\n",
       "      <td>Rs\\n1795</td>\n",
       "      <td>1615</td>\n",
       "      <td>10% off</td>\n",
       "      <td>Westernwear-Women</td>\n",
       "    </tr>\n",
       "    <tr>\n",
       "      <th>6</th>\n",
       "      <td>6</td>\n",
       "      <td>life</td>\n",
       "      <td>printed cotton blend collared womens regular d...</td>\n",
       "      <td>Size:Large,Medium,Small,X-Large,X-Small</td>\n",
       "      <td>Rs\\n1299</td>\n",
       "      <td>649</td>\n",
       "      <td>50% off</td>\n",
       "      <td>Westernwear-Women</td>\n",
       "    </tr>\n",
       "    <tr>\n",
       "      <th>7</th>\n",
       "      <td>7</td>\n",
       "      <td>fratini</td>\n",
       "      <td>embroidered wide neck polyester womens regular...</td>\n",
       "      <td>Size:XX-Large</td>\n",
       "      <td>Rs\\n1299</td>\n",
       "      <td>649</td>\n",
       "      <td>50% off</td>\n",
       "      <td>Westernwear-Women</td>\n",
       "    </tr>\n",
       "    <tr>\n",
       "      <th>8</th>\n",
       "      <td>8</td>\n",
       "      <td>rare</td>\n",
       "      <td>floral polyester v neck womens flared dress - ...</td>\n",
       "      <td>Size:Large,Medium,Small,X-Large</td>\n",
       "      <td>Rs\\n2099</td>\n",
       "      <td>839</td>\n",
       "      <td>60% off</td>\n",
       "      <td>Westernwear-Women</td>\n",
       "    </tr>\n",
       "    <tr>\n",
       "      <th>9</th>\n",
       "      <td>9</td>\n",
       "      <td>rare</td>\n",
       "      <td>checks cotton boat neck womens regular top - b...</td>\n",
       "      <td>Size:Medium,Small,X-Large</td>\n",
       "      <td>Rs\\n1499</td>\n",
       "      <td>599</td>\n",
       "      <td>60% off</td>\n",
       "      <td>Westernwear-Women</td>\n",
       "    </tr>\n",
       "  </tbody>\n",
       "</table>\n",
       "</div>"
      ],
      "text/plain": [
       "   Unnamed: 0    BrandName                                            Deatils  \\\n",
       "0           0         life  solid cotton blend collar neck womens a-line d...   \n",
       "1           1         only  polyester peter pan collar womens blouson dres...   \n",
       "2           2      fratini  solid polyester blend wide neck womens regular...   \n",
       "3           3  zink london  stripes polyester sweetheart neck womens dress...   \n",
       "4           4         life  regular fit regular length denim womens jeans ...   \n",
       "5           5        kraus  wide ankle length cotton womens jeans - light ...   \n",
       "6           6         life  printed cotton blend collared womens regular d...   \n",
       "7           7      fratini  embroidered wide neck polyester womens regular...   \n",
       "8           8         rare  floral polyester v neck womens flared dress - ...   \n",
       "9           9         rare  checks cotton boat neck womens regular top - b...   \n",
       "\n",
       "                                     Sizes       MRP SellPrice Discount  \\\n",
       "0  Size:Large,Medium,Small,X-Large,X-Small  Rs\\n1699       849  50% off   \n",
       "1                         Size:34,36,38,40  Rs\\n3499      2449  30% off   \n",
       "2              Size:Large,X-Large,XX-Large  Rs\\n1199       599  50% off   \n",
       "3          Size:Large,Medium,Small,X-Large  Rs\\n2299      1379  40% off   \n",
       "4                   Size:26,28,30,32,34,36  Rs\\n1699       849  50% off   \n",
       "5                      Size:26,28,30,32,34  Rs\\n1795      1615  10% off   \n",
       "6  Size:Large,Medium,Small,X-Large,X-Small  Rs\\n1299       649  50% off   \n",
       "7                            Size:XX-Large  Rs\\n1299       649  50% off   \n",
       "8          Size:Large,Medium,Small,X-Large  Rs\\n2099       839  60% off   \n",
       "9                Size:Medium,Small,X-Large  Rs\\n1499       599  60% off   \n",
       "\n",
       "            Category  \n",
       "0  Westernwear-Women  \n",
       "1  Westernwear-Women  \n",
       "2  Westernwear-Women  \n",
       "3  Westernwear-Women  \n",
       "4  Westernwear-Women  \n",
       "5  Westernwear-Women  \n",
       "6  Westernwear-Women  \n",
       "7  Westernwear-Women  \n",
       "8  Westernwear-Women  \n",
       "9  Westernwear-Women  "
      ]
     },
     "execution_count": 9,
     "metadata": {},
     "output_type": "execute_result"
    }
   ],
   "source": [
    "data.head(10)"
   ]
  },
  {
   "cell_type": "code",
   "execution_count": 10,
   "id": "f457506a",
   "metadata": {},
   "outputs": [
    {
     "data": {
      "text/plain": [
       "(30758, 8)"
      ]
     },
     "execution_count": 10,
     "metadata": {},
     "output_type": "execute_result"
    }
   ],
   "source": [
    "data.shape"
   ]
  },
  {
   "cell_type": "code",
   "execution_count": 11,
   "id": "73982c25",
   "metadata": {},
   "outputs": [
    {
     "data": {
      "text/plain": [
       "Index(['Unnamed: 0', 'BrandName', 'Deatils', 'Sizes', 'MRP', 'SellPrice',\n",
       "       'Discount', 'Category'],\n",
       "      dtype='object')"
      ]
     },
     "execution_count": 11,
     "metadata": {},
     "output_type": "execute_result"
    }
   ],
   "source": [
    "data.columns"
   ]
  },
  {
   "cell_type": "code",
   "execution_count": 12,
   "id": "0e782506",
   "metadata": {},
   "outputs": [
    {
     "data": {
      "text/html": [
       "<div>\n",
       "<style scoped>\n",
       "    .dataframe tbody tr th:only-of-type {\n",
       "        vertical-align: middle;\n",
       "    }\n",
       "\n",
       "    .dataframe tbody tr th {\n",
       "        vertical-align: top;\n",
       "    }\n",
       "\n",
       "    .dataframe thead th {\n",
       "        text-align: right;\n",
       "    }\n",
       "</style>\n",
       "<table border=\"1\" class=\"dataframe\">\n",
       "  <thead>\n",
       "    <tr style=\"text-align: right;\">\n",
       "      <th></th>\n",
       "      <th>BrandName</th>\n",
       "      <th>Deatils</th>\n",
       "      <th>Sizes</th>\n",
       "      <th>MRP</th>\n",
       "      <th>SellPrice</th>\n",
       "      <th>Discount</th>\n",
       "      <th>Category</th>\n",
       "    </tr>\n",
       "  </thead>\n",
       "  <tbody>\n",
       "    <tr>\n",
       "      <th>0</th>\n",
       "      <td>life</td>\n",
       "      <td>solid cotton blend collar neck womens a-line d...</td>\n",
       "      <td>Size:Large,Medium,Small,X-Large,X-Small</td>\n",
       "      <td>Rs\\n1699</td>\n",
       "      <td>849</td>\n",
       "      <td>50% off</td>\n",
       "      <td>Westernwear-Women</td>\n",
       "    </tr>\n",
       "    <tr>\n",
       "      <th>1</th>\n",
       "      <td>only</td>\n",
       "      <td>polyester peter pan collar womens blouson dres...</td>\n",
       "      <td>Size:34,36,38,40</td>\n",
       "      <td>Rs\\n3499</td>\n",
       "      <td>2449</td>\n",
       "      <td>30% off</td>\n",
       "      <td>Westernwear-Women</td>\n",
       "    </tr>\n",
       "    <tr>\n",
       "      <th>2</th>\n",
       "      <td>fratini</td>\n",
       "      <td>solid polyester blend wide neck womens regular...</td>\n",
       "      <td>Size:Large,X-Large,XX-Large</td>\n",
       "      <td>Rs\\n1199</td>\n",
       "      <td>599</td>\n",
       "      <td>50% off</td>\n",
       "      <td>Westernwear-Women</td>\n",
       "    </tr>\n",
       "    <tr>\n",
       "      <th>3</th>\n",
       "      <td>zink london</td>\n",
       "      <td>stripes polyester sweetheart neck womens dress...</td>\n",
       "      <td>Size:Large,Medium,Small,X-Large</td>\n",
       "      <td>Rs\\n2299</td>\n",
       "      <td>1379</td>\n",
       "      <td>40% off</td>\n",
       "      <td>Westernwear-Women</td>\n",
       "    </tr>\n",
       "    <tr>\n",
       "      <th>4</th>\n",
       "      <td>life</td>\n",
       "      <td>regular fit regular length denim womens jeans ...</td>\n",
       "      <td>Size:26,28,30,32,34,36</td>\n",
       "      <td>Rs\\n1699</td>\n",
       "      <td>849</td>\n",
       "      <td>50% off</td>\n",
       "      <td>Westernwear-Women</td>\n",
       "    </tr>\n",
       "    <tr>\n",
       "      <th>...</th>\n",
       "      <td>...</td>\n",
       "      <td>...</td>\n",
       "      <td>...</td>\n",
       "      <td>...</td>\n",
       "      <td>...</td>\n",
       "      <td>...</td>\n",
       "      <td>...</td>\n",
       "    </tr>\n",
       "    <tr>\n",
       "      <th>30753</th>\n",
       "      <td>swarovski</td>\n",
       "      <td>crystal stylish womens rodhium earrings</td>\n",
       "      <td>Nan</td>\n",
       "      <td>Nan</td>\n",
       "      <td>8950</td>\n",
       "      <td>Nan</td>\n",
       "      <td>Jewellery-Women</td>\n",
       "    </tr>\n",
       "    <tr>\n",
       "      <th>30754</th>\n",
       "      <td>Nan</td>\n",
       "      <td>Nan</td>\n",
       "      <td>Nan</td>\n",
       "      <td>Nan</td>\n",
       "      <td>Nan</td>\n",
       "      <td>Nan</td>\n",
       "      <td>Jewellery-Women</td>\n",
       "    </tr>\n",
       "    <tr>\n",
       "      <th>30755</th>\n",
       "      <td>jewelz</td>\n",
       "      <td>ethnic gold plated jhumki earrings</td>\n",
       "      <td>Nan</td>\n",
       "      <td>Rs\\n1839</td>\n",
       "      <td>643</td>\n",
       "      <td>65% off</td>\n",
       "      <td>Jewellery-Women</td>\n",
       "    </tr>\n",
       "    <tr>\n",
       "      <th>30756</th>\n",
       "      <td>estelle</td>\n",
       "      <td>womens gold plated double line fancy white and...</td>\n",
       "      <td>Nan</td>\n",
       "      <td>Nan</td>\n",
       "      <td>2799</td>\n",
       "      <td>Nan</td>\n",
       "      <td>Jewellery-Women</td>\n",
       "    </tr>\n",
       "    <tr>\n",
       "      <th>30757</th>\n",
       "      <td>estelle</td>\n",
       "      <td>womens gold plated bridge designer mangalsutra...</td>\n",
       "      <td>Nan</td>\n",
       "      <td>Nan</td>\n",
       "      <td>1899</td>\n",
       "      <td>Nan</td>\n",
       "      <td>Jewellery-Women</td>\n",
       "    </tr>\n",
       "  </tbody>\n",
       "</table>\n",
       "<p>30758 rows × 7 columns</p>\n",
       "</div>"
      ],
      "text/plain": [
       "         BrandName                                            Deatils  \\\n",
       "0             life  solid cotton blend collar neck womens a-line d...   \n",
       "1             only  polyester peter pan collar womens blouson dres...   \n",
       "2          fratini  solid polyester blend wide neck womens regular...   \n",
       "3      zink london  stripes polyester sweetheart neck womens dress...   \n",
       "4             life  regular fit regular length denim womens jeans ...   \n",
       "...            ...                                                ...   \n",
       "30753    swarovski            crystal stylish womens rodhium earrings   \n",
       "30754          Nan                                                Nan   \n",
       "30755       jewelz                 ethnic gold plated jhumki earrings   \n",
       "30756      estelle  womens gold plated double line fancy white and...   \n",
       "30757      estelle  womens gold plated bridge designer mangalsutra...   \n",
       "\n",
       "                                         Sizes       MRP SellPrice Discount  \\\n",
       "0      Size:Large,Medium,Small,X-Large,X-Small  Rs\\n1699       849  50% off   \n",
       "1                             Size:34,36,38,40  Rs\\n3499      2449  30% off   \n",
       "2                  Size:Large,X-Large,XX-Large  Rs\\n1199       599  50% off   \n",
       "3              Size:Large,Medium,Small,X-Large  Rs\\n2299      1379  40% off   \n",
       "4                       Size:26,28,30,32,34,36  Rs\\n1699       849  50% off   \n",
       "...                                        ...       ...       ...      ...   \n",
       "30753                                      Nan       Nan      8950      Nan   \n",
       "30754                                      Nan       Nan       Nan      Nan   \n",
       "30755                                      Nan  Rs\\n1839       643  65% off   \n",
       "30756                                      Nan       Nan      2799      Nan   \n",
       "30757                                      Nan       Nan      1899      Nan   \n",
       "\n",
       "                Category  \n",
       "0      Westernwear-Women  \n",
       "1      Westernwear-Women  \n",
       "2      Westernwear-Women  \n",
       "3      Westernwear-Women  \n",
       "4      Westernwear-Women  \n",
       "...                  ...  \n",
       "30753    Jewellery-Women  \n",
       "30754    Jewellery-Women  \n",
       "30755    Jewellery-Women  \n",
       "30756    Jewellery-Women  \n",
       "30757    Jewellery-Women  \n",
       "\n",
       "[30758 rows x 7 columns]"
      ]
     },
     "execution_count": 12,
     "metadata": {},
     "output_type": "execute_result"
    }
   ],
   "source": [
    "data.drop(columns=['Unnamed: 0']) # delete for this particular block this change not reflect don't reflect in original data set"
   ]
  },
  {
   "cell_type": "code",
   "execution_count": 13,
   "id": "c064cc4a",
   "metadata": {},
   "outputs": [
    {
     "data": {
      "text/html": [
       "<div>\n",
       "<style scoped>\n",
       "    .dataframe tbody tr th:only-of-type {\n",
       "        vertical-align: middle;\n",
       "    }\n",
       "\n",
       "    .dataframe tbody tr th {\n",
       "        vertical-align: top;\n",
       "    }\n",
       "\n",
       "    .dataframe thead th {\n",
       "        text-align: right;\n",
       "    }\n",
       "</style>\n",
       "<table border=\"1\" class=\"dataframe\">\n",
       "  <thead>\n",
       "    <tr style=\"text-align: right;\">\n",
       "      <th></th>\n",
       "      <th>Unnamed: 0</th>\n",
       "      <th>BrandName</th>\n",
       "      <th>Deatils</th>\n",
       "      <th>Sizes</th>\n",
       "      <th>MRP</th>\n",
       "      <th>SellPrice</th>\n",
       "      <th>Discount</th>\n",
       "      <th>Category</th>\n",
       "    </tr>\n",
       "  </thead>\n",
       "  <tbody>\n",
       "    <tr>\n",
       "      <th>0</th>\n",
       "      <td>0</td>\n",
       "      <td>life</td>\n",
       "      <td>solid cotton blend collar neck womens a-line d...</td>\n",
       "      <td>Size:Large,Medium,Small,X-Large,X-Small</td>\n",
       "      <td>Rs\\n1699</td>\n",
       "      <td>849</td>\n",
       "      <td>50% off</td>\n",
       "      <td>Westernwear-Women</td>\n",
       "    </tr>\n",
       "    <tr>\n",
       "      <th>1</th>\n",
       "      <td>1</td>\n",
       "      <td>only</td>\n",
       "      <td>polyester peter pan collar womens blouson dres...</td>\n",
       "      <td>Size:34,36,38,40</td>\n",
       "      <td>Rs\\n3499</td>\n",
       "      <td>2449</td>\n",
       "      <td>30% off</td>\n",
       "      <td>Westernwear-Women</td>\n",
       "    </tr>\n",
       "    <tr>\n",
       "      <th>2</th>\n",
       "      <td>2</td>\n",
       "      <td>fratini</td>\n",
       "      <td>solid polyester blend wide neck womens regular...</td>\n",
       "      <td>Size:Large,X-Large,XX-Large</td>\n",
       "      <td>Rs\\n1199</td>\n",
       "      <td>599</td>\n",
       "      <td>50% off</td>\n",
       "      <td>Westernwear-Women</td>\n",
       "    </tr>\n",
       "    <tr>\n",
       "      <th>3</th>\n",
       "      <td>3</td>\n",
       "      <td>zink london</td>\n",
       "      <td>stripes polyester sweetheart neck womens dress...</td>\n",
       "      <td>Size:Large,Medium,Small,X-Large</td>\n",
       "      <td>Rs\\n2299</td>\n",
       "      <td>1379</td>\n",
       "      <td>40% off</td>\n",
       "      <td>Westernwear-Women</td>\n",
       "    </tr>\n",
       "    <tr>\n",
       "      <th>4</th>\n",
       "      <td>4</td>\n",
       "      <td>life</td>\n",
       "      <td>regular fit regular length denim womens jeans ...</td>\n",
       "      <td>Size:26,28,30,32,34,36</td>\n",
       "      <td>Rs\\n1699</td>\n",
       "      <td>849</td>\n",
       "      <td>50% off</td>\n",
       "      <td>Westernwear-Women</td>\n",
       "    </tr>\n",
       "  </tbody>\n",
       "</table>\n",
       "</div>"
      ],
      "text/plain": [
       "   Unnamed: 0    BrandName                                            Deatils  \\\n",
       "0           0         life  solid cotton blend collar neck womens a-line d...   \n",
       "1           1         only  polyester peter pan collar womens blouson dres...   \n",
       "2           2      fratini  solid polyester blend wide neck womens regular...   \n",
       "3           3  zink london  stripes polyester sweetheart neck womens dress...   \n",
       "4           4         life  regular fit regular length denim womens jeans ...   \n",
       "\n",
       "                                     Sizes       MRP SellPrice Discount  \\\n",
       "0  Size:Large,Medium,Small,X-Large,X-Small  Rs\\n1699       849  50% off   \n",
       "1                         Size:34,36,38,40  Rs\\n3499      2449  30% off   \n",
       "2              Size:Large,X-Large,XX-Large  Rs\\n1199       599  50% off   \n",
       "3          Size:Large,Medium,Small,X-Large  Rs\\n2299      1379  40% off   \n",
       "4                   Size:26,28,30,32,34,36  Rs\\n1699       849  50% off   \n",
       "\n",
       "            Category  \n",
       "0  Westernwear-Women  \n",
       "1  Westernwear-Women  \n",
       "2  Westernwear-Women  \n",
       "3  Westernwear-Women  \n",
       "4  Westernwear-Women  "
      ]
     },
     "execution_count": 13,
     "metadata": {},
     "output_type": "execute_result"
    }
   ],
   "source": [
    "data.head() # not reflected in original dataset"
   ]
  },
  {
   "cell_type": "code",
   "execution_count": 36,
   "id": "64ae6434",
   "metadata": {},
   "outputs": [],
   "source": [
    "data.drop(columns=['Unnamed: 0'],inplace=True) # reflect to original data "
   ]
  },
  {
   "cell_type": "code",
   "execution_count": 15,
   "id": "617ee9b9",
   "metadata": {},
   "outputs": [
    {
     "data": {
      "text/html": [
       "<div>\n",
       "<style scoped>\n",
       "    .dataframe tbody tr th:only-of-type {\n",
       "        vertical-align: middle;\n",
       "    }\n",
       "\n",
       "    .dataframe tbody tr th {\n",
       "        vertical-align: top;\n",
       "    }\n",
       "\n",
       "    .dataframe thead th {\n",
       "        text-align: right;\n",
       "    }\n",
       "</style>\n",
       "<table border=\"1\" class=\"dataframe\">\n",
       "  <thead>\n",
       "    <tr style=\"text-align: right;\">\n",
       "      <th></th>\n",
       "      <th>BrandName</th>\n",
       "      <th>Deatils</th>\n",
       "      <th>Sizes</th>\n",
       "      <th>MRP</th>\n",
       "      <th>SellPrice</th>\n",
       "      <th>Discount</th>\n",
       "      <th>Category</th>\n",
       "    </tr>\n",
       "  </thead>\n",
       "  <tbody>\n",
       "    <tr>\n",
       "      <th>0</th>\n",
       "      <td>life</td>\n",
       "      <td>solid cotton blend collar neck womens a-line d...</td>\n",
       "      <td>Size:Large,Medium,Small,X-Large,X-Small</td>\n",
       "      <td>Rs\\n1699</td>\n",
       "      <td>849</td>\n",
       "      <td>50% off</td>\n",
       "      <td>Westernwear-Women</td>\n",
       "    </tr>\n",
       "    <tr>\n",
       "      <th>1</th>\n",
       "      <td>only</td>\n",
       "      <td>polyester peter pan collar womens blouson dres...</td>\n",
       "      <td>Size:34,36,38,40</td>\n",
       "      <td>Rs\\n3499</td>\n",
       "      <td>2449</td>\n",
       "      <td>30% off</td>\n",
       "      <td>Westernwear-Women</td>\n",
       "    </tr>\n",
       "    <tr>\n",
       "      <th>2</th>\n",
       "      <td>fratini</td>\n",
       "      <td>solid polyester blend wide neck womens regular...</td>\n",
       "      <td>Size:Large,X-Large,XX-Large</td>\n",
       "      <td>Rs\\n1199</td>\n",
       "      <td>599</td>\n",
       "      <td>50% off</td>\n",
       "      <td>Westernwear-Women</td>\n",
       "    </tr>\n",
       "    <tr>\n",
       "      <th>3</th>\n",
       "      <td>zink london</td>\n",
       "      <td>stripes polyester sweetheart neck womens dress...</td>\n",
       "      <td>Size:Large,Medium,Small,X-Large</td>\n",
       "      <td>Rs\\n2299</td>\n",
       "      <td>1379</td>\n",
       "      <td>40% off</td>\n",
       "      <td>Westernwear-Women</td>\n",
       "    </tr>\n",
       "    <tr>\n",
       "      <th>4</th>\n",
       "      <td>life</td>\n",
       "      <td>regular fit regular length denim womens jeans ...</td>\n",
       "      <td>Size:26,28,30,32,34,36</td>\n",
       "      <td>Rs\\n1699</td>\n",
       "      <td>849</td>\n",
       "      <td>50% off</td>\n",
       "      <td>Westernwear-Women</td>\n",
       "    </tr>\n",
       "  </tbody>\n",
       "</table>\n",
       "</div>"
      ],
      "text/plain": [
       "     BrandName                                            Deatils  \\\n",
       "0         life  solid cotton blend collar neck womens a-line d...   \n",
       "1         only  polyester peter pan collar womens blouson dres...   \n",
       "2      fratini  solid polyester blend wide neck womens regular...   \n",
       "3  zink london  stripes polyester sweetheart neck womens dress...   \n",
       "4         life  regular fit regular length denim womens jeans ...   \n",
       "\n",
       "                                     Sizes       MRP SellPrice Discount  \\\n",
       "0  Size:Large,Medium,Small,X-Large,X-Small  Rs\\n1699       849  50% off   \n",
       "1                         Size:34,36,38,40  Rs\\n3499      2449  30% off   \n",
       "2              Size:Large,X-Large,XX-Large  Rs\\n1199       599  50% off   \n",
       "3          Size:Large,Medium,Small,X-Large  Rs\\n2299      1379  40% off   \n",
       "4                   Size:26,28,30,32,34,36  Rs\\n1699       849  50% off   \n",
       "\n",
       "            Category  \n",
       "0  Westernwear-Women  \n",
       "1  Westernwear-Women  \n",
       "2  Westernwear-Women  \n",
       "3  Westernwear-Women  \n",
       "4  Westernwear-Women  "
      ]
     },
     "execution_count": 15,
     "metadata": {},
     "output_type": "execute_result"
    }
   ],
   "source": [
    "data.head()"
   ]
  },
  {
   "cell_type": "code",
   "execution_count": 17,
   "id": "9c9f7a2a",
   "metadata": {},
   "outputs": [
    {
     "name": "stdout",
     "output_type": "stream",
     "text": [
      "<class 'pandas.core.frame.DataFrame'>\n",
      "RangeIndex: 30758 entries, 0 to 30757\n",
      "Data columns (total 7 columns):\n",
      " #   Column     Non-Null Count  Dtype \n",
      "---  ------     --------------  ----- \n",
      " 0   BrandName  30758 non-null  object\n",
      " 1   Deatils    30758 non-null  object\n",
      " 2   Sizes      30758 non-null  object\n",
      " 3   MRP        30758 non-null  object\n",
      " 4   SellPrice  30758 non-null  object\n",
      " 5   Discount   30758 non-null  object\n",
      " 6   Category   30758 non-null  object\n",
      "dtypes: object(7)\n",
      "memory usage: 1.6+ MB\n"
     ]
    }
   ],
   "source": [
    "data.info()"
   ]
  },
  {
   "cell_type": "code",
   "execution_count": 18,
   "id": "f5ca3c2a",
   "metadata": {},
   "outputs": [
    {
     "data": {
      "text/plain": [
       "BrandName    0\n",
       "Deatils      0\n",
       "Sizes        0\n",
       "MRP          0\n",
       "SellPrice    0\n",
       "Discount     0\n",
       "Category     0\n",
       "dtype: int64"
      ]
     },
     "execution_count": 18,
     "metadata": {},
     "output_type": "execute_result"
    }
   ],
   "source": [
    "data.isnull().sum()"
   ]
  },
  {
   "cell_type": "code",
   "execution_count": 19,
   "id": "fed6d943",
   "metadata": {},
   "outputs": [
    {
     "data": {
      "text/plain": [
       "0        Rs\\n1699\n",
       "1        Rs\\n3499\n",
       "2        Rs\\n1199\n",
       "3        Rs\\n2299\n",
       "4        Rs\\n1699\n",
       "           ...   \n",
       "30753         Nan\n",
       "30754         Nan\n",
       "30755    Rs\\n1839\n",
       "30756         Nan\n",
       "30757         Nan\n",
       "Name: MRP, Length: 30758, dtype: object"
      ]
     },
     "execution_count": 19,
     "metadata": {},
     "output_type": "execute_result"
    }
   ],
   "source": [
    "data['MRP']"
   ]
  },
  {
   "cell_type": "code",
   "execution_count": 20,
   "id": "5700da19",
   "metadata": {},
   "outputs": [
    {
     "data": {
      "text/plain": [
       "0        Rs\\n1699\n",
       "1        Rs\\n3499\n",
       "2        Rs\\n1199\n",
       "3        Rs\\n2299\n",
       "4        Rs\\n1699\n",
       "           ...   \n",
       "30753         Nan\n",
       "30754         Nan\n",
       "30755    Rs\\n1839\n",
       "30756         Nan\n",
       "30757         Nan\n",
       "Name: MRP, Length: 30758, dtype: object"
      ]
     },
     "execution_count": 20,
     "metadata": {},
     "output_type": "execute_result"
    }
   ],
   "source": [
    "data.MRP"
   ]
  },
  {
   "cell_type": "code",
   "execution_count": 21,
   "id": "6673fc49",
   "metadata": {},
   "outputs": [
    {
     "data": {
      "text/html": [
       "<div>\n",
       "<style scoped>\n",
       "    .dataframe tbody tr th:only-of-type {\n",
       "        vertical-align: middle;\n",
       "    }\n",
       "\n",
       "    .dataframe tbody tr th {\n",
       "        vertical-align: top;\n",
       "    }\n",
       "\n",
       "    .dataframe thead th {\n",
       "        text-align: right;\n",
       "    }\n",
       "</style>\n",
       "<table border=\"1\" class=\"dataframe\">\n",
       "  <thead>\n",
       "    <tr style=\"text-align: right;\">\n",
       "      <th></th>\n",
       "      <th>BrandName</th>\n",
       "      <th>Deatils</th>\n",
       "      <th>Sizes</th>\n",
       "      <th>MRP</th>\n",
       "      <th>SellPrice</th>\n",
       "      <th>Discount</th>\n",
       "      <th>Category</th>\n",
       "    </tr>\n",
       "  </thead>\n",
       "  <tbody>\n",
       "    <tr>\n",
       "      <th>0</th>\n",
       "      <td>life</td>\n",
       "      <td>solid cotton blend collar neck womens a-line d...</td>\n",
       "      <td>Size:Large,Medium,Small,X-Large,X-Small</td>\n",
       "      <td>Rs\\n1699</td>\n",
       "      <td>849</td>\n",
       "      <td>50% off</td>\n",
       "      <td>Westernwear-Women</td>\n",
       "    </tr>\n",
       "    <tr>\n",
       "      <th>1</th>\n",
       "      <td>only</td>\n",
       "      <td>polyester peter pan collar womens blouson dres...</td>\n",
       "      <td>Size:34,36,38,40</td>\n",
       "      <td>Rs\\n3499</td>\n",
       "      <td>2449</td>\n",
       "      <td>30% off</td>\n",
       "      <td>Westernwear-Women</td>\n",
       "    </tr>\n",
       "    <tr>\n",
       "      <th>2</th>\n",
       "      <td>fratini</td>\n",
       "      <td>solid polyester blend wide neck womens regular...</td>\n",
       "      <td>Size:Large,X-Large,XX-Large</td>\n",
       "      <td>Rs\\n1199</td>\n",
       "      <td>599</td>\n",
       "      <td>50% off</td>\n",
       "      <td>Westernwear-Women</td>\n",
       "    </tr>\n",
       "    <tr>\n",
       "      <th>3</th>\n",
       "      <td>zink london</td>\n",
       "      <td>stripes polyester sweetheart neck womens dress...</td>\n",
       "      <td>Size:Large,Medium,Small,X-Large</td>\n",
       "      <td>Rs\\n2299</td>\n",
       "      <td>1379</td>\n",
       "      <td>40% off</td>\n",
       "      <td>Westernwear-Women</td>\n",
       "    </tr>\n",
       "    <tr>\n",
       "      <th>4</th>\n",
       "      <td>life</td>\n",
       "      <td>regular fit regular length denim womens jeans ...</td>\n",
       "      <td>Size:26,28,30,32,34,36</td>\n",
       "      <td>Rs\\n1699</td>\n",
       "      <td>849</td>\n",
       "      <td>50% off</td>\n",
       "      <td>Westernwear-Women</td>\n",
       "    </tr>\n",
       "    <tr>\n",
       "      <th>...</th>\n",
       "      <td>...</td>\n",
       "      <td>...</td>\n",
       "      <td>...</td>\n",
       "      <td>...</td>\n",
       "      <td>...</td>\n",
       "      <td>...</td>\n",
       "      <td>...</td>\n",
       "    </tr>\n",
       "    <tr>\n",
       "      <th>30753</th>\n",
       "      <td>swarovski</td>\n",
       "      <td>crystal stylish womens rodhium earrings</td>\n",
       "      <td>Nan</td>\n",
       "      <td>Nan</td>\n",
       "      <td>8950</td>\n",
       "      <td>Nan</td>\n",
       "      <td>Jewellery-Women</td>\n",
       "    </tr>\n",
       "    <tr>\n",
       "      <th>30754</th>\n",
       "      <td>Nan</td>\n",
       "      <td>Nan</td>\n",
       "      <td>Nan</td>\n",
       "      <td>Nan</td>\n",
       "      <td>Nan</td>\n",
       "      <td>Nan</td>\n",
       "      <td>Jewellery-Women</td>\n",
       "    </tr>\n",
       "    <tr>\n",
       "      <th>30755</th>\n",
       "      <td>jewelz</td>\n",
       "      <td>ethnic gold plated jhumki earrings</td>\n",
       "      <td>Nan</td>\n",
       "      <td>Rs\\n1839</td>\n",
       "      <td>643</td>\n",
       "      <td>65% off</td>\n",
       "      <td>Jewellery-Women</td>\n",
       "    </tr>\n",
       "    <tr>\n",
       "      <th>30756</th>\n",
       "      <td>estelle</td>\n",
       "      <td>womens gold plated double line fancy white and...</td>\n",
       "      <td>Nan</td>\n",
       "      <td>Nan</td>\n",
       "      <td>2799</td>\n",
       "      <td>Nan</td>\n",
       "      <td>Jewellery-Women</td>\n",
       "    </tr>\n",
       "    <tr>\n",
       "      <th>30757</th>\n",
       "      <td>estelle</td>\n",
       "      <td>womens gold plated bridge designer mangalsutra...</td>\n",
       "      <td>Nan</td>\n",
       "      <td>Nan</td>\n",
       "      <td>1899</td>\n",
       "      <td>Nan</td>\n",
       "      <td>Jewellery-Women</td>\n",
       "    </tr>\n",
       "  </tbody>\n",
       "</table>\n",
       "<p>30758 rows × 7 columns</p>\n",
       "</div>"
      ],
      "text/plain": [
       "         BrandName                                            Deatils  \\\n",
       "0             life  solid cotton blend collar neck womens a-line d...   \n",
       "1             only  polyester peter pan collar womens blouson dres...   \n",
       "2          fratini  solid polyester blend wide neck womens regular...   \n",
       "3      zink london  stripes polyester sweetheart neck womens dress...   \n",
       "4             life  regular fit regular length denim womens jeans ...   \n",
       "...            ...                                                ...   \n",
       "30753    swarovski            crystal stylish womens rodhium earrings   \n",
       "30754          Nan                                                Nan   \n",
       "30755       jewelz                 ethnic gold plated jhumki earrings   \n",
       "30756      estelle  womens gold plated double line fancy white and...   \n",
       "30757      estelle  womens gold plated bridge designer mangalsutra...   \n",
       "\n",
       "                                         Sizes       MRP SellPrice Discount  \\\n",
       "0      Size:Large,Medium,Small,X-Large,X-Small  Rs\\n1699       849  50% off   \n",
       "1                             Size:34,36,38,40  Rs\\n3499      2449  30% off   \n",
       "2                  Size:Large,X-Large,XX-Large  Rs\\n1199       599  50% off   \n",
       "3              Size:Large,Medium,Small,X-Large  Rs\\n2299      1379  40% off   \n",
       "4                       Size:26,28,30,32,34,36  Rs\\n1699       849  50% off   \n",
       "...                                        ...       ...       ...      ...   \n",
       "30753                                      Nan       Nan      8950      Nan   \n",
       "30754                                      Nan       Nan       Nan      Nan   \n",
       "30755                                      Nan  Rs\\n1839       643  65% off   \n",
       "30756                                      Nan       Nan      2799      Nan   \n",
       "30757                                      Nan       Nan      1899      Nan   \n",
       "\n",
       "                Category  \n",
       "0      Westernwear-Women  \n",
       "1      Westernwear-Women  \n",
       "2      Westernwear-Women  \n",
       "3      Westernwear-Women  \n",
       "4      Westernwear-Women  \n",
       "...                  ...  \n",
       "30753    Jewellery-Women  \n",
       "30754    Jewellery-Women  \n",
       "30755    Jewellery-Women  \n",
       "30756    Jewellery-Women  \n",
       "30757    Jewellery-Women  \n",
       "\n",
       "[30758 rows x 7 columns]"
      ]
     },
     "execution_count": 21,
     "metadata": {},
     "output_type": "execute_result"
    }
   ],
   "source": [
    "data"
   ]
  },
  {
   "cell_type": "code",
   "execution_count": 23,
   "id": "ed37b2f0",
   "metadata": {},
   "outputs": [
    {
     "data": {
      "text/plain": [
       "BrandName    object\n",
       "Deatils      object\n",
       "Sizes        object\n",
       "MRP          object\n",
       "SellPrice    object\n",
       "Discount     object\n",
       "Category     object\n",
       "dtype: object"
      ]
     },
     "execution_count": 23,
     "metadata": {},
     "output_type": "execute_result"
    }
   ],
   "source": [
    "data.dtypes"
   ]
  },
  {
   "cell_type": "code",
   "execution_count": 22,
   "id": "448f37bc",
   "metadata": {},
   "outputs": [
    {
     "data": {
      "text/html": [
       "<div>\n",
       "<style scoped>\n",
       "    .dataframe tbody tr th:only-of-type {\n",
       "        vertical-align: middle;\n",
       "    }\n",
       "\n",
       "    .dataframe tbody tr th {\n",
       "        vertical-align: top;\n",
       "    }\n",
       "\n",
       "    .dataframe thead th {\n",
       "        text-align: right;\n",
       "    }\n",
       "</style>\n",
       "<table border=\"1\" class=\"dataframe\">\n",
       "  <thead>\n",
       "    <tr style=\"text-align: right;\">\n",
       "      <th></th>\n",
       "      <th>BrandName</th>\n",
       "      <th>Deatils</th>\n",
       "      <th>Sizes</th>\n",
       "      <th>MRP</th>\n",
       "      <th>SellPrice</th>\n",
       "      <th>Discount</th>\n",
       "      <th>Category</th>\n",
       "    </tr>\n",
       "  </thead>\n",
       "  <tbody>\n",
       "    <tr>\n",
       "      <th>count</th>\n",
       "      <td>30758</td>\n",
       "      <td>30758</td>\n",
       "      <td>30758</td>\n",
       "      <td>30758</td>\n",
       "      <td>30758</td>\n",
       "      <td>30758</td>\n",
       "      <td>30758</td>\n",
       "    </tr>\n",
       "    <tr>\n",
       "      <th>unique</th>\n",
       "      <td>275</td>\n",
       "      <td>23877</td>\n",
       "      <td>1172</td>\n",
       "      <td>1097</td>\n",
       "      <td>2046</td>\n",
       "      <td>66</td>\n",
       "      <td>7</td>\n",
       "    </tr>\n",
       "    <tr>\n",
       "      <th>top</th>\n",
       "      <td>vastranand</td>\n",
       "      <td>Nan</td>\n",
       "      <td>Nan</td>\n",
       "      <td>Nan</td>\n",
       "      <td>Nan</td>\n",
       "      <td>Nan</td>\n",
       "      <td>Westernwear-Women</td>\n",
       "    </tr>\n",
       "    <tr>\n",
       "      <th>freq</th>\n",
       "      <td>1543</td>\n",
       "      <td>1183</td>\n",
       "      <td>7501</td>\n",
       "      <td>8208</td>\n",
       "      <td>1183</td>\n",
       "      <td>8208</td>\n",
       "      <td>10374</td>\n",
       "    </tr>\n",
       "  </tbody>\n",
       "</table>\n",
       "</div>"
      ],
      "text/plain": [
       "         BrandName Deatils  Sizes    MRP SellPrice Discount           Category\n",
       "count        30758   30758  30758  30758     30758    30758              30758\n",
       "unique         275   23877   1172   1097      2046       66                  7\n",
       "top     vastranand     Nan    Nan    Nan       Nan      Nan  Westernwear-Women\n",
       "freq          1543    1183   7501   8208      1183     8208              10374"
      ]
     },
     "execution_count": 22,
     "metadata": {},
     "output_type": "execute_result"
    }
   ],
   "source": [
    "data.describe() # gives the desprective stastical data"
   ]
  },
  {
   "cell_type": "code",
   "execution_count": 44,
   "id": "594c61e8",
   "metadata": {},
   "outputs": [
    {
     "data": {
      "text/plain": [
       "count     22550\n",
       "unique     1096\n",
       "top        1499\n",
       "freq        925\n",
       "Name: MRP, dtype: object"
      ]
     },
     "execution_count": 44,
     "metadata": {},
     "output_type": "execute_result"
    }
   ],
   "source": [
    "data['MRP'].describe()"
   ]
  },
  {
   "cell_type": "markdown",
   "id": "1902b141",
   "metadata": {},
   "source": [
    "# To replace particular string in columns"
   ]
  },
  {
   "cell_type": "code",
   "execution_count": 37,
   "id": "95431ffc",
   "metadata": {},
   "outputs": [],
   "source": [
    "data['MRP']=data['MRP'].str.replace('Rs\\n',' ')"
   ]
  },
  {
   "cell_type": "code",
   "execution_count": 25,
   "id": "b97d98cd",
   "metadata": {},
   "outputs": [
    {
     "data": {
      "text/html": [
       "<div>\n",
       "<style scoped>\n",
       "    .dataframe tbody tr th:only-of-type {\n",
       "        vertical-align: middle;\n",
       "    }\n",
       "\n",
       "    .dataframe tbody tr th {\n",
       "        vertical-align: top;\n",
       "    }\n",
       "\n",
       "    .dataframe thead th {\n",
       "        text-align: right;\n",
       "    }\n",
       "</style>\n",
       "<table border=\"1\" class=\"dataframe\">\n",
       "  <thead>\n",
       "    <tr style=\"text-align: right;\">\n",
       "      <th></th>\n",
       "      <th>BrandName</th>\n",
       "      <th>Deatils</th>\n",
       "      <th>Sizes</th>\n",
       "      <th>MRP</th>\n",
       "      <th>SellPrice</th>\n",
       "      <th>Discount</th>\n",
       "      <th>Category</th>\n",
       "    </tr>\n",
       "  </thead>\n",
       "  <tbody>\n",
       "    <tr>\n",
       "      <th>0</th>\n",
       "      <td>life</td>\n",
       "      <td>solid cotton blend collar neck womens a-line d...</td>\n",
       "      <td>Size:Large,Medium,Small,X-Large,X-Small</td>\n",
       "      <td>1699</td>\n",
       "      <td>849</td>\n",
       "      <td>50% off</td>\n",
       "      <td>Westernwear-Women</td>\n",
       "    </tr>\n",
       "    <tr>\n",
       "      <th>1</th>\n",
       "      <td>only</td>\n",
       "      <td>polyester peter pan collar womens blouson dres...</td>\n",
       "      <td>Size:34,36,38,40</td>\n",
       "      <td>3499</td>\n",
       "      <td>2449</td>\n",
       "      <td>30% off</td>\n",
       "      <td>Westernwear-Women</td>\n",
       "    </tr>\n",
       "    <tr>\n",
       "      <th>2</th>\n",
       "      <td>fratini</td>\n",
       "      <td>solid polyester blend wide neck womens regular...</td>\n",
       "      <td>Size:Large,X-Large,XX-Large</td>\n",
       "      <td>1199</td>\n",
       "      <td>599</td>\n",
       "      <td>50% off</td>\n",
       "      <td>Westernwear-Women</td>\n",
       "    </tr>\n",
       "    <tr>\n",
       "      <th>3</th>\n",
       "      <td>zink london</td>\n",
       "      <td>stripes polyester sweetheart neck womens dress...</td>\n",
       "      <td>Size:Large,Medium,Small,X-Large</td>\n",
       "      <td>2299</td>\n",
       "      <td>1379</td>\n",
       "      <td>40% off</td>\n",
       "      <td>Westernwear-Women</td>\n",
       "    </tr>\n",
       "    <tr>\n",
       "      <th>4</th>\n",
       "      <td>life</td>\n",
       "      <td>regular fit regular length denim womens jeans ...</td>\n",
       "      <td>Size:26,28,30,32,34,36</td>\n",
       "      <td>1699</td>\n",
       "      <td>849</td>\n",
       "      <td>50% off</td>\n",
       "      <td>Westernwear-Women</td>\n",
       "    </tr>\n",
       "  </tbody>\n",
       "</table>\n",
       "</div>"
      ],
      "text/plain": [
       "     BrandName                                            Deatils  \\\n",
       "0         life  solid cotton blend collar neck womens a-line d...   \n",
       "1         only  polyester peter pan collar womens blouson dres...   \n",
       "2      fratini  solid polyester blend wide neck womens regular...   \n",
       "3  zink london  stripes polyester sweetheart neck womens dress...   \n",
       "4         life  regular fit regular length denim womens jeans ...   \n",
       "\n",
       "                                     Sizes    MRP SellPrice Discount  \\\n",
       "0  Size:Large,Medium,Small,X-Large,X-Small   1699       849  50% off   \n",
       "1                         Size:34,36,38,40   3499      2449  30% off   \n",
       "2              Size:Large,X-Large,XX-Large   1199       599  50% off   \n",
       "3          Size:Large,Medium,Small,X-Large   2299      1379  40% off   \n",
       "4                   Size:26,28,30,32,34,36   1699       849  50% off   \n",
       "\n",
       "            Category  \n",
       "0  Westernwear-Women  \n",
       "1  Westernwear-Women  \n",
       "2  Westernwear-Women  \n",
       "3  Westernwear-Women  \n",
       "4  Westernwear-Women  "
      ]
     },
     "execution_count": 25,
     "metadata": {},
     "output_type": "execute_result"
    }
   ],
   "source": [
    "data.head()"
   ]
  },
  {
   "cell_type": "code",
   "execution_count": 27,
   "id": "cca1dcbe",
   "metadata": {},
   "outputs": [
    {
     "data": {
      "text/plain": [
       "BrandName    object\n",
       "Deatils      object\n",
       "Sizes        object\n",
       "MRP          object\n",
       "SellPrice    object\n",
       "Discount     object\n",
       "Category     object\n",
       "dtype: object"
      ]
     },
     "execution_count": 27,
     "metadata": {},
     "output_type": "execute_result"
    }
   ],
   "source": [
    "data.dtypes"
   ]
  },
  {
   "cell_type": "markdown",
   "id": "27390f6a",
   "metadata": {},
   "source": [
    "# To change the data type"
   ]
  },
  {
   "cell_type": "code",
   "execution_count": 47,
   "id": "3e890e44",
   "metadata": {},
   "outputs": [],
   "source": [
    "data.replace('NaN',np.nan,inplace=True) # don't reflect to original data"
   ]
  },
  {
   "cell_type": "code",
   "execution_count": 48,
   "id": "277b85d4",
   "metadata": {},
   "outputs": [],
   "source": [
    "data.dropna(axis=0,inplace=True)"
   ]
  },
  {
   "cell_type": "code",
   "execution_count": 53,
   "id": "7a88892a",
   "metadata": {},
   "outputs": [],
   "source": [
    "data['MRP']=data['MRP'].astype(int)\n",
    "data['SellPrice']=data['SellPrice'].astype(int)"
   ]
  },
  {
   "cell_type": "code",
   "execution_count": 54,
   "id": "3d9fa979",
   "metadata": {},
   "outputs": [
    {
     "data": {
      "text/plain": [
       "BrandName    object\n",
       "Deatils      object\n",
       "Sizes        object\n",
       "MRP           int64\n",
       "SellPrice     int64\n",
       "Discount     object\n",
       "Category     object\n",
       "dtype: object"
      ]
     },
     "execution_count": 54,
     "metadata": {},
     "output_type": "execute_result"
    }
   ],
   "source": [
    "data.dtypes"
   ]
  },
  {
   "cell_type": "code",
   "execution_count": 52,
   "id": "a50182f6",
   "metadata": {},
   "outputs": [
    {
     "data": {
      "text/plain": [
       "Index(['BrandName', 'Deatils', 'Sizes', 'MRP', 'SellPrice', 'Discount',\n",
       "       'Category'],\n",
       "      dtype='object')"
      ]
     },
     "execution_count": 52,
     "metadata": {},
     "output_type": "execute_result"
    }
   ],
   "source": [
    "data.columns"
   ]
  },
  {
   "cell_type": "code",
   "execution_count": 56,
   "id": "d42754af",
   "metadata": {},
   "outputs": [
    {
     "data": {
      "text/html": [
       "<div>\n",
       "<style scoped>\n",
       "    .dataframe tbody tr th:only-of-type {\n",
       "        vertical-align: middle;\n",
       "    }\n",
       "\n",
       "    .dataframe tbody tr th {\n",
       "        vertical-align: top;\n",
       "    }\n",
       "\n",
       "    .dataframe thead th {\n",
       "        text-align: right;\n",
       "    }\n",
       "</style>\n",
       "<table border=\"1\" class=\"dataframe\">\n",
       "  <thead>\n",
       "    <tr style=\"text-align: right;\">\n",
       "      <th></th>\n",
       "      <th>BrandName</th>\n",
       "      <th>Deatils</th>\n",
       "      <th>Sizes</th>\n",
       "      <th>MRP</th>\n",
       "      <th>SellPrice</th>\n",
       "      <th>Discount</th>\n",
       "      <th>Category</th>\n",
       "    </tr>\n",
       "  </thead>\n",
       "  <tbody>\n",
       "    <tr>\n",
       "      <th>count</th>\n",
       "      <td>18374</td>\n",
       "      <td>18374</td>\n",
       "      <td>18374</td>\n",
       "      <td>18374.000000</td>\n",
       "      <td>18374.000000</td>\n",
       "      <td>18374</td>\n",
       "      <td>18374</td>\n",
       "    </tr>\n",
       "    <tr>\n",
       "      <th>unique</th>\n",
       "      <td>105</td>\n",
       "      <td>15456</td>\n",
       "      <td>936</td>\n",
       "      <td>NaN</td>\n",
       "      <td>NaN</td>\n",
       "      <td>64</td>\n",
       "      <td>5</td>\n",
       "    </tr>\n",
       "    <tr>\n",
       "      <th>top</th>\n",
       "      <td>zink london</td>\n",
       "      <td>synthetic womens casual sandals - black</td>\n",
       "      <td>Size:Large,Medium,Small,X-Large,X-Small</td>\n",
       "      <td>NaN</td>\n",
       "      <td>NaN</td>\n",
       "      <td>50% off</td>\n",
       "      <td>Westernwear-Women</td>\n",
       "    </tr>\n",
       "    <tr>\n",
       "      <th>freq</th>\n",
       "      <td>917</td>\n",
       "      <td>36</td>\n",
       "      <td>1754</td>\n",
       "      <td>NaN</td>\n",
       "      <td>NaN</td>\n",
       "      <td>6718</td>\n",
       "      <td>8221</td>\n",
       "    </tr>\n",
       "    <tr>\n",
       "      <th>mean</th>\n",
       "      <td>NaN</td>\n",
       "      <td>NaN</td>\n",
       "      <td>NaN</td>\n",
       "      <td>2136.928704</td>\n",
       "      <td>1163.798846</td>\n",
       "      <td>NaN</td>\n",
       "      <td>NaN</td>\n",
       "    </tr>\n",
       "    <tr>\n",
       "      <th>std</th>\n",
       "      <td>NaN</td>\n",
       "      <td>NaN</td>\n",
       "      <td>NaN</td>\n",
       "      <td>1189.416850</td>\n",
       "      <td>744.201506</td>\n",
       "      <td>NaN</td>\n",
       "      <td>NaN</td>\n",
       "    </tr>\n",
       "    <tr>\n",
       "      <th>min</th>\n",
       "      <td>NaN</td>\n",
       "      <td>NaN</td>\n",
       "      <td>NaN</td>\n",
       "      <td>171.000000</td>\n",
       "      <td>114.000000</td>\n",
       "      <td>NaN</td>\n",
       "      <td>NaN</td>\n",
       "    </tr>\n",
       "    <tr>\n",
       "      <th>25%</th>\n",
       "      <td>NaN</td>\n",
       "      <td>NaN</td>\n",
       "      <td>NaN</td>\n",
       "      <td>1299.000000</td>\n",
       "      <td>659.000000</td>\n",
       "      <td>NaN</td>\n",
       "      <td>NaN</td>\n",
       "    </tr>\n",
       "    <tr>\n",
       "      <th>50%</th>\n",
       "      <td>NaN</td>\n",
       "      <td>NaN</td>\n",
       "      <td>NaN</td>\n",
       "      <td>1899.000000</td>\n",
       "      <td>995.000000</td>\n",
       "      <td>NaN</td>\n",
       "      <td>NaN</td>\n",
       "    </tr>\n",
       "    <tr>\n",
       "      <th>75%</th>\n",
       "      <td>NaN</td>\n",
       "      <td>NaN</td>\n",
       "      <td>NaN</td>\n",
       "      <td>2663.000000</td>\n",
       "      <td>1469.000000</td>\n",
       "      <td>NaN</td>\n",
       "      <td>NaN</td>\n",
       "    </tr>\n",
       "    <tr>\n",
       "      <th>max</th>\n",
       "      <td>NaN</td>\n",
       "      <td>NaN</td>\n",
       "      <td>NaN</td>\n",
       "      <td>16999.000000</td>\n",
       "      <td>13599.000000</td>\n",
       "      <td>NaN</td>\n",
       "      <td>NaN</td>\n",
       "    </tr>\n",
       "  </tbody>\n",
       "</table>\n",
       "</div>"
      ],
      "text/plain": [
       "          BrandName                                  Deatils  \\\n",
       "count         18374                                    18374   \n",
       "unique          105                                    15456   \n",
       "top     zink london  synthetic womens casual sandals - black   \n",
       "freq            917                                       36   \n",
       "mean            NaN                                      NaN   \n",
       "std             NaN                                      NaN   \n",
       "min             NaN                                      NaN   \n",
       "25%             NaN                                      NaN   \n",
       "50%             NaN                                      NaN   \n",
       "75%             NaN                                      NaN   \n",
       "max             NaN                                      NaN   \n",
       "\n",
       "                                          Sizes           MRP     SellPrice  \\\n",
       "count                                     18374  18374.000000  18374.000000   \n",
       "unique                                      936           NaN           NaN   \n",
       "top     Size:Large,Medium,Small,X-Large,X-Small           NaN           NaN   \n",
       "freq                                       1754           NaN           NaN   \n",
       "mean                                        NaN   2136.928704   1163.798846   \n",
       "std                                         NaN   1189.416850    744.201506   \n",
       "min                                         NaN    171.000000    114.000000   \n",
       "25%                                         NaN   1299.000000    659.000000   \n",
       "50%                                         NaN   1899.000000    995.000000   \n",
       "75%                                         NaN   2663.000000   1469.000000   \n",
       "max                                         NaN  16999.000000  13599.000000   \n",
       "\n",
       "       Discount           Category  \n",
       "count     18374              18374  \n",
       "unique       64                  5  \n",
       "top     50% off  Westernwear-Women  \n",
       "freq       6718               8221  \n",
       "mean        NaN                NaN  \n",
       "std         NaN                NaN  \n",
       "min         NaN                NaN  \n",
       "25%         NaN                NaN  \n",
       "50%         NaN                NaN  \n",
       "75%         NaN                NaN  \n",
       "max         NaN                NaN  "
      ]
     },
     "execution_count": 56,
     "metadata": {},
     "output_type": "execute_result"
    }
   ],
   "source": [
    "data.describe(include='all')"
   ]
  },
  {
   "cell_type": "markdown",
   "id": "3b6ef460",
   "metadata": {},
   "source": [
    "# how many different categories"
   ]
  },
  {
   "cell_type": "code",
   "execution_count": 61,
   "id": "122e8b75",
   "metadata": {},
   "outputs": [
    {
     "data": {
      "text/plain": [
       "array(['life', 'only', 'fratini', 'zink london', 'kraus', 'rare',\n",
       "       'van heusen', 'stop', 'cover story', 'infuse', 'allen solly',\n",
       "       'altlife', 'madame', 'iti', 'and', 'faballey', 'latin quarters',\n",
       "       'sera', 'adidas', 'pepe', 'indya', 'juniper', 'lovegen',\n",
       "       'forever new', 'magre', 'insense', 'calvin klein underwear',\n",
       "       'reebok', 'marie claire', 'enamor', 'vero moda', 'spykar',\n",
       "       'dolce crudo', 'global desi', 'crimsoune club', 'haute curry',\n",
       "       'proline', 'puma', 'ivy', 'vh flex', 'myshka', '109f', 'w',\n",
       "       'gipsy', 'samshek', 'is.u', 'kami kubi', 'varanga', 'de moza',\n",
       "       'u.s. polo assn.', 'janasya', 'kashish', 'pepe kids', 'erotissch',\n",
       "       'biba', 'ed hardy', 'mystere paris', 'louis philippe', 'mimosa',\n",
       "       'soie', 'sweet dreams', 'imara', 'charchit', 'athome',\n",
       "       'indian terrain', 'yuris', 'suti', 'sanaa', 'ziyaa', 'mothercare',\n",
       "       'jack and jones', 'aurelia', 'neerus', 'amukti', 'fusion beats',\n",
       "       'gas', 'ritu kumar', 'united colors of benetton',\n",
       "       'elliza donatein', 'nachtmann', 'aarke', 'clovia', 'triumph',\n",
       "       'amante', 'nayomi', 'parfait', 'wacoal', 'miss chase', 'recap',\n",
       "       'catwalk', 'inc.5', 'estatos', 'tresmode', 'lemon & pepper',\n",
       "       'shoetopia', 'skechers', 'new balance', 'ceriz', 'clarks', 'guess',\n",
       "       'monrow', 'modare', 'signature sole', 'swiss eagle',\n",
       "       'lawman watches'], dtype=object)"
      ]
     },
     "execution_count": 61,
     "metadata": {},
     "output_type": "execute_result"
    }
   ],
   "source": [
    "data['BrandName'].unique()"
   ]
  },
  {
   "cell_type": "code",
   "execution_count": 63,
   "id": "0e54d5d1",
   "metadata": {},
   "outputs": [
    {
     "data": {
      "text/plain": [
       "zink london                  917\n",
       "global desi                  811\n",
       "stop                         672\n",
       "faballey                     645\n",
       "janasya                      640\n",
       "                            ... \n",
       "recap                          1\n",
       "miss chase                     1\n",
       "united colors of benetton      1\n",
       "elliza donatein                1\n",
       "pepe kids                      1\n",
       "Name: BrandName, Length: 105, dtype: int64"
      ]
     },
     "execution_count": 63,
     "metadata": {},
     "output_type": "execute_result"
    }
   ],
   "source": [
    "data['BrandName'].value_counts()"
   ]
  },
  {
   "cell_type": "code",
   "execution_count": 68,
   "id": "4eb4bd49",
   "metadata": {},
   "outputs": [
    {
     "data": {
      "text/plain": [
       "5"
      ]
     },
     "execution_count": 68,
     "metadata": {},
     "output_type": "execute_result"
    }
   ],
   "source": [
    "data['Category'].nunique()"
   ]
  },
  {
   "cell_type": "code",
   "execution_count": 65,
   "id": "11350bf2",
   "metadata": {},
   "outputs": [
    {
     "data": {
      "text/plain": [
       "<AxesSubplot:>"
      ]
     },
     "execution_count": 65,
     "metadata": {},
     "output_type": "execute_result"
    },
    {
     "data": {
      "image/png": "[encoded data removed]",
      "text/plain": [
       "<Figure size 432x288 with 1 Axes>"
      ]
     },
     "metadata": {
      "needs_background": "light"
     },
     "output_type": "display_data"
    }
   ],
   "source": [
    "data['Category'].value_counts().plot(kind='bar')"
   ]
  },
  {
   "cell_type": "code",
   "execution_count": 66,
   "id": "dc9af535",
   "metadata": {},
   "outputs": [
    {
     "data": {
      "text/plain": [
       "Westernwear-Women           8221\n",
       "Indianwear-Women            6428\n",
       "Lingerie&Nightwear-Women    2084\n",
       "Footwear-Women              1638\n",
       "Watches-Women                  3\n",
       "Name: Category, dtype: int64"
      ]
     },
     "execution_count": 66,
     "metadata": {},
     "output_type": "execute_result"
    }
   ],
   "source": [
    "data['Category'].value_counts()"
   ]
  },
  {
   "cell_type": "code",
   "execution_count": 69,
   "id": "48226a80",
   "metadata": {},
   "outputs": [
    {
     "data": {
      "text/plain": [
       "50% off    6718\n",
       "30% off    2400\n",
       "60% off    2220\n",
       "40% off    1914\n",
       "20% off    1497\n",
       "           ... \n",
       "79% off       1\n",
       "66% off       1\n",
       "77% off       1\n",
       "27% off       1\n",
       "36% off       1\n",
       "Name: Discount, Length: 64, dtype: int64"
      ]
     },
     "execution_count": 69,
     "metadata": {},
     "output_type": "execute_result"
    }
   ],
   "source": [
    "data['Discount'].value_counts()"
   ]
  },
  {
   "cell_type": "code",
   "execution_count": 70,
   "id": "c847f4ce",
   "metadata": {},
   "outputs": [
    {
     "data": {
      "text/plain": [
       "<AxesSubplot:ylabel='Discount'>"
      ]
     },
     "execution_count": 70,
     "metadata": {},
     "output_type": "execute_result"
    },
    {
     "data": {
      "image/png": "[encoded data removed]",
      "text/plain": [
       "<Figure size 432x288 with 1 Axes>"
      ]
     },
     "metadata": {},
     "output_type": "display_data"
    }
   ],
   "source": [
    "data['Discount'].value_counts().head(10).plot(kind='pie')"
   ]
  },
  {
   "cell_type": "code",
   "execution_count": 71,
   "id": "4ea64ec7",
   "metadata": {},
   "outputs": [
    {
     "data": {
      "text/plain": [
       "<AxesSubplot:>"
      ]
     },
     "execution_count": 71,
     "metadata": {},
     "output_type": "execute_result"
    },
    {
     "data": {
      "image/png": "[encoded data removed]",
      "text/plain": [
       "<Figure size 432x288 with 1 Axes>"
      ]
     },
     "metadata": {
      "needs_background": "light"
     },
     "output_type": "display_data"
    }
   ],
   "source": [
    "data['Discount'].value_counts().head(10).plot(kind='bar')"
   ]
  },
  {
   "cell_type": "code",
   "execution_count": 72,
   "id": "1bc8d53a",
   "metadata": {},
   "outputs": [
    {
     "data": {
      "text/plain": [
       "Size:Large,Medium,Small,X-Large,X-Small                   1754\n",
       "Size:Large,Medium,Small,X-Large                           1239\n",
       "Size:Large,Medium,Small,X-Large,X-Small,XX-Large          1235\n",
       "Size:Large,Medium,Small,X-Large,XX-Large                  1135\n",
       "Size:Large,Medium,Small,X-Large,XX-Large,XXX-Large         685\n",
       "                                                          ... \n",
       "Size:32-D,32-DD,32-E,32-F,32-G,40-FF,42-F,42-FF,42-G         1\n",
       "Size:32-D,36-B,36-C                                          1\n",
       "Size:34-C,34-E,36-C,36-D,36-E,36-F,38-C,38-D,38-E,38-F       1\n",
       "Size:32-C,32-D,34-B,34-C,34-D,36-B,36-C,36-D,38-C            1\n",
       "Size:92,98,104,110,116,122,128,134                           1\n",
       "Name: Sizes, Length: 936, dtype: int64"
      ]
     },
     "execution_count": 72,
     "metadata": {},
     "output_type": "execute_result"
    }
   ],
   "source": [
    "data['Sizes'].value_counts()"
   ]
  },
  {
   "cell_type": "code",
   "execution_count": 73,
   "id": "0ae6deca",
   "metadata": {},
   "outputs": [
    {
     "data": {
      "text/plain": [
       "<AxesSubplot:>"
      ]
     },
     "execution_count": 73,
     "metadata": {},
     "output_type": "execute_result"
    },
    {
     "data": {
      "image/png": "[encoded data removed]",
      "text/plain": [
       "<Figure size 432x288 with 1 Axes>"
      ]
     },
     "metadata": {
      "needs_background": "light"
     },
     "output_type": "display_data"
    }
   ],
   "source": [
    "data['Sizes'].value_counts().head(10).plot(kind='bar')"
   ]
  },
  {
   "cell_type": "markdown",
   "id": "eb8334a1",
   "metadata": {},
   "source": [
    "# high selling price for 10 records"
   ]
  },
  {
   "cell_type": "code",
   "execution_count": 74,
   "id": "7aa0a27f",
   "metadata": {},
   "outputs": [],
   "source": [
    "high_selling_data=data[['BrandName', 'Deatils', 'Sizes', 'MRP']]"
   ]
  },
  {
   "cell_type": "code",
   "execution_count": 76,
   "id": "a804c732",
   "metadata": {},
   "outputs": [
    {
     "data": {
      "text/plain": [
       "pandas.core.frame.DataFrame"
      ]
     },
     "execution_count": 76,
     "metadata": {},
     "output_type": "execute_result"
    }
   ],
   "source": [
    "type(high_selling_data)"
   ]
  },
  {
   "cell_type": "code",
   "execution_count": 78,
   "id": "4385b299",
   "metadata": {},
   "outputs": [],
   "source": [
    "high_selling_data=data[['BrandName', 'Deatils', 'Sizes', 'MRP']].sort_values(by='MRP',ascending=False).head(10)"
   ]
  },
  {
   "cell_type": "code",
   "execution_count": 79,
   "id": "3387a0fa",
   "metadata": {},
   "outputs": [
    {
     "data": {
      "text/html": [
       "<div>\n",
       "<style scoped>\n",
       "    .dataframe tbody tr th:only-of-type {\n",
       "        vertical-align: middle;\n",
       "    }\n",
       "\n",
       "    .dataframe tbody tr th {\n",
       "        vertical-align: top;\n",
       "    }\n",
       "\n",
       "    .dataframe thead th {\n",
       "        text-align: right;\n",
       "    }\n",
       "</style>\n",
       "<table border=\"1\" class=\"dataframe\">\n",
       "  <thead>\n",
       "    <tr style=\"text-align: right;\">\n",
       "      <th></th>\n",
       "      <th>BrandName</th>\n",
       "      <th>Deatils</th>\n",
       "      <th>Sizes</th>\n",
       "      <th>MRP</th>\n",
       "    </tr>\n",
       "  </thead>\n",
       "  <tbody>\n",
       "    <tr>\n",
       "      <th>15744</th>\n",
       "      <td>global desi</td>\n",
       "      <td>solid cotton round neck womens ethnic set - ye...</td>\n",
       "      <td>Size:XL,Large,Medium,Small,X-Small,XX-Large</td>\n",
       "      <td>16999</td>\n",
       "    </tr>\n",
       "    <tr>\n",
       "      <th>14154</th>\n",
       "      <td>global desi</td>\n",
       "      <td>embroidered polyester round neck womens ethnic...</td>\n",
       "      <td>Size:XL,Large,Small,X-Small,XX-Large</td>\n",
       "      <td>15999</td>\n",
       "    </tr>\n",
       "    <tr>\n",
       "      <th>26885</th>\n",
       "      <td>swiss eagle</td>\n",
       "      <td>womens analogue metallic watch</td>\n",
       "      <td>Size:Error Size</td>\n",
       "      <td>13990</td>\n",
       "    </tr>\n",
       "    <tr>\n",
       "      <th>24281</th>\n",
       "      <td>new balance</td>\n",
       "      <td>synthetic mesh lace up womens sneakers - black</td>\n",
       "      <td>Size:4,4.5,5.5,6,6.5,7.5</td>\n",
       "      <td>9999</td>\n",
       "    </tr>\n",
       "    <tr>\n",
       "      <th>18629</th>\n",
       "      <td>w</td>\n",
       "      <td>round neck velvet designer womens skirt kurta ...</td>\n",
       "      <td>Size:16</td>\n",
       "      <td>9999</td>\n",
       "    </tr>\n",
       "    <tr>\n",
       "      <th>24641</th>\n",
       "      <td>new balance</td>\n",
       "      <td>synthetic mesh lace up womens sneakers - blue</td>\n",
       "      <td>Size:4.5,5,5.5,6,6.5,7.5</td>\n",
       "      <td>9999</td>\n",
       "    </tr>\n",
       "    <tr>\n",
       "      <th>25635</th>\n",
       "      <td>new balance</td>\n",
       "      <td>synthetic mesh lace up womens sneakers - grey</td>\n",
       "      <td>Size:6,6.5</td>\n",
       "      <td>9999</td>\n",
       "    </tr>\n",
       "    <tr>\n",
       "      <th>24742</th>\n",
       "      <td>new balance</td>\n",
       "      <td>synthetic mesh lace up womens sneakers - multi</td>\n",
       "      <td>Size:5</td>\n",
       "      <td>9999</td>\n",
       "    </tr>\n",
       "    <tr>\n",
       "      <th>25453</th>\n",
       "      <td>guess</td>\n",
       "      <td>womens party wear zip closure boots - black</td>\n",
       "      <td>Size:6,7,8</td>\n",
       "      <td>9599</td>\n",
       "    </tr>\n",
       "    <tr>\n",
       "      <th>24911</th>\n",
       "      <td>guess</td>\n",
       "      <td>womens party wear zip closure boots - black</td>\n",
       "      <td>Size:5,6</td>\n",
       "      <td>9599</td>\n",
       "    </tr>\n",
       "  </tbody>\n",
       "</table>\n",
       "</div>"
      ],
      "text/plain": [
       "         BrandName                                            Deatils  \\\n",
       "15744  global desi  solid cotton round neck womens ethnic set - ye...   \n",
       "14154  global desi  embroidered polyester round neck womens ethnic...   \n",
       "26885  swiss eagle                     womens analogue metallic watch   \n",
       "24281  new balance     synthetic mesh lace up womens sneakers - black   \n",
       "18629            w  round neck velvet designer womens skirt kurta ...   \n",
       "24641  new balance      synthetic mesh lace up womens sneakers - blue   \n",
       "25635  new balance      synthetic mesh lace up womens sneakers - grey   \n",
       "24742  new balance     synthetic mesh lace up womens sneakers - multi   \n",
       "25453        guess        womens party wear zip closure boots - black   \n",
       "24911        guess        womens party wear zip closure boots - black   \n",
       "\n",
       "                                             Sizes    MRP  \n",
       "15744  Size:XL,Large,Medium,Small,X-Small,XX-Large  16999  \n",
       "14154         Size:XL,Large,Small,X-Small,XX-Large  15999  \n",
       "26885                              Size:Error Size  13990  \n",
       "24281                     Size:4,4.5,5.5,6,6.5,7.5   9999  \n",
       "18629                                      Size:16   9999  \n",
       "24641                     Size:4.5,5,5.5,6,6.5,7.5   9999  \n",
       "25635                                   Size:6,6.5   9999  \n",
       "24742                                       Size:5   9999  \n",
       "25453                                   Size:6,7,8   9599  \n",
       "24911                                     Size:5,6   9599  "
      ]
     },
     "execution_count": 79,
     "metadata": {},
     "output_type": "execute_result"
    }
   ],
   "source": [
    "high_selling_data"
   ]
  },
  {
   "cell_type": "markdown",
   "id": "c793527f",
   "metadata": {},
   "source": [
    "# How can you detect outlier"
   ]
  },
  {
   "cell_type": "code",
   "execution_count": 85,
   "id": "d5056390",
   "metadata": {},
   "outputs": [
    {
     "data": {
      "text/plain": [
       "<AxesSubplot:>"
      ]
     },
     "execution_count": 85,
     "metadata": {},
     "output_type": "execute_result"
    },
    {
     "data": {
      "image/png": "[encoded data removed]",
      "text/plain": [
       "<Figure size 432x288 with 1 Axes>"
      ]
     },
     "metadata": {
      "needs_background": "light"
     },
     "output_type": "display_data"
    }
   ],
   "source": [
    "sns.boxplot(data=data)"
   ]
  },
  {
   "cell_type": "code",
   "execution_count": 92,
   "id": "37f7b6d6",
   "metadata": {},
   "outputs": [
    {
     "name": "stderr",
     "output_type": "stream",
     "text": [
      "/Users/abhijeetkashyap/opt/anaconda3/lib/python3.9/site-packages/seaborn/distributions.py:2619: FutureWarning: `distplot` is a deprecated function and will be removed in a future version. Please adapt your code to use either `displot` (a figure-level function with similar flexibility) or `histplot` (an axes-level function for histograms).\n",
      "  warnings.warn(msg, FutureWarning)\n"
     ]
    },
    {
     "data": {
      "text/plain": [
       "<AxesSubplot:ylabel='Density'>"
      ]
     },
     "execution_count": 92,
     "metadata": {},
     "output_type": "execute_result"
    },
    {
     "data": {
      "image/png": "[encoded data removed]",
      "text/plain": [
       "<Figure size 432x288 with 1 Axes>"
      ]
     },
     "metadata": {
      "needs_background": "light"
     },
     "output_type": "display_data"
    }
   ],
   "source": [
    "sns.distplot(x=data['MRP'])"
   ]
  },
  {
   "cell_type": "code",
   "execution_count": 89,
   "id": "2305e20d",
   "metadata": {},
   "outputs": [
    {
     "data": {
      "text/plain": [
       "Index(['BrandName', 'Deatils', 'Sizes', 'MRP', 'SellPrice', 'Discount',\n",
       "       'Category'],\n",
       "      dtype='object')"
      ]
     },
     "execution_count": 89,
     "metadata": {},
     "output_type": "execute_result"
    }
   ],
   "source": [
    "data.columns"
   ]
  },
  {
   "cell_type": "code",
   "execution_count": 94,
   "id": "1b45d7c6",
   "metadata": {},
   "outputs": [
    {
     "data": {
      "text/html": [
       "<div>\n",
       "<style scoped>\n",
       "    .dataframe tbody tr th:only-of-type {\n",
       "        vertical-align: middle;\n",
       "    }\n",
       "\n",
       "    .dataframe tbody tr th {\n",
       "        vertical-align: top;\n",
       "    }\n",
       "\n",
       "    .dataframe thead th {\n",
       "        text-align: right;\n",
       "    }\n",
       "</style>\n",
       "<table border=\"1\" class=\"dataframe\">\n",
       "  <thead>\n",
       "    <tr style=\"text-align: right;\">\n",
       "      <th></th>\n",
       "      <th>MRP</th>\n",
       "      <th>SellPrice</th>\n",
       "    </tr>\n",
       "  </thead>\n",
       "  <tbody>\n",
       "    <tr>\n",
       "      <th>MRP</th>\n",
       "      <td>1.000000</td>\n",
       "      <td>0.851263</td>\n",
       "    </tr>\n",
       "    <tr>\n",
       "      <th>SellPrice</th>\n",
       "      <td>0.851263</td>\n",
       "      <td>1.000000</td>\n",
       "    </tr>\n",
       "  </tbody>\n",
       "</table>\n",
       "</div>"
      ],
      "text/plain": [
       "                MRP  SellPrice\n",
       "MRP        1.000000   0.851263\n",
       "SellPrice  0.851263   1.000000"
      ]
     },
     "execution_count": 94,
     "metadata": {},
     "output_type": "execute_result"
    }
   ],
   "source": [
    "data.corr()"
   ]
  },
  {
   "cell_type": "code",
   "execution_count": 96,
   "id": "b5e17137",
   "metadata": {},
   "outputs": [
    {
     "data": {
      "text/plain": [
       "<AxesSubplot:>"
      ]
     },
     "execution_count": 96,
     "metadata": {},
     "output_type": "execute_result"
    },
    {
     "data": {
      "image/png": "[encoded data removed]",
      "text/plain": [
       "<Figure size 432x288 with 2 Axes>"
      ]
     },
     "metadata": {
      "needs_background": "light"
     },
     "output_type": "display_data"
    }
   ],
   "source": [
    "sns.heatmap(data.corr())"
   ]
  },
  {
   "cell_type": "code",
   "execution_count": null,
   "id": "b20d4165",
   "metadata": {},
   "outputs": [],
   "source": []
  }
 ],
 "metadata": {
  "kernelspec": {
   "display_name": "Python 3 (ipykernel)",
   "language": "python",
   "name": "python3"
  },
  "language_info": {
   "codemirror_mode": {
    "name": "ipython",
    "version": 3
   },
   "file_extension": ".py",
   "mimetype": "text/x-python",
   "name": "python",
   "nbconvert_exporter": "python",
   "pygments_lexer": "ipython3",
   "version": "3.9.12"
  }
 },
 "nbformat": 4,
 "nbformat_minor": 5
}
